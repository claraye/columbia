{
 "cells": [
  {
   "cell_type": "markdown",
   "metadata": {},
   "source": [
    "# Backtester for Columbia Arabesque Project\n"
   ]
  },
  {
   "cell_type": "markdown",
   "metadata": {},
   "source": [
    "This example uses the signals output from machine learning phase to simulate results in a real trading environment with transaction costs and mananagement fees"
   ]
  },
  {
   "cell_type": "markdown",
   "metadata": {},
   "source": [
    "## Step 1: download and install backtrader\n",
    "if not already installed install backtrader\n",
    "<font color=blue><pre>$> pip install backtrader</pre></font>"
   ]
  },
  {
   "cell_type": "markdown",
   "metadata": {},
   "source": [
    "## Step 2:  Import required modules"
   ]
  },
  {
   "cell_type": "code",
   "execution_count": 1,
   "metadata": {},
   "outputs": [],
   "source": [
    "from __future__ import (absolute_import, division, print_function, unicode_literals)\n",
    "import pandas as pd\n",
    "import datetime\n",
    "import logging\n",
    "import os.path\n",
    "import sys\n",
    "\n",
    "import backtrader as bt\n",
    "import backtrader.analyzers as btanalyzers\n",
    "import matplotlib.pyplot as plt\n",
    "from scipy.stats import mstats\n",
    "\n",
    "logger = logging.getLogger()"
   ]
  },
  {
   "cell_type": "markdown",
   "metadata": {},
   "source": [
    "## Step 3: Define global variables to hold trade and position data...\n",
    "\n",
    "These variables will be used to store trade PNL (PNL_DICT) and daily market value (MKT_DICT) of each position and current cash balance.  It is stored in a dictionary with the ticker as the key with an array of tuples consisting of date and value.  For the trade PNL, it is recorded when the trade is closed."
   ]
  },
  {
   "cell_type": "code",
   "execution_count": 2,
   "metadata": {},
   "outputs": [],
   "source": [
    "#global variables\n",
    "\n",
    "# Structure to store daily values \n",
    "PNL_DICT = {}\n",
    "MKT_DICT = {}\n"
   ]
  },
  {
   "cell_type": "markdown",
   "metadata": {},
   "source": [
    "## Step 4: Define global control variables...\n",
    "\n",
    "These variables control the execution of the program and set starting balances as described below"
   ]
  },
  {
   "cell_type": "code",
   "execution_count": 3,
   "metadata": {},
   "outputs": [],
   "source": [
    "# control the output\n",
    "DEBUG = True\n",
    "SAVE_OUTPUT_FILES = False\n",
    "\n",
    "# control the tickers to include\n",
    "NUM_TICKERS = 1\n",
    "TICKERS = None #['x189']\n",
    "\n",
    "# winsorization percent value to clip data\n",
    "WINSORIZATION_LEVEL = 1000\n",
    "\n",
    "# initial cash balance\n",
    "START_BALANCE = 1000000.0\n",
    "\n",
    "# control whether to show Backtrader charts\n",
    "SHOW_BACKTRADER_CHARTS = False"
   ]
  },
  {
   "cell_type": "markdown",
   "metadata": {},
   "source": [
    "## Step 5: Create Strategy Class\n",
    "\n",
    "This class is used to apply our machine learning algorithm to generate buy and sell orders.  In this example we already have signals generated in a separate process.  The signals in this case are a simple weighted value based on the concurrent number of buy signals for the day. The signals are are added to the openinterest column as described in **Step 10.\n",
    "\n",
    "Backtrader, does have a Signals class that uses LONG, SHORT and other predifined signals, but using this class provided more flexibility.\n",
    "\n",
    "This is a subclass of the Backtrader Strategy class and overrides the following methods:\n",
    "\n",
    "### 1. next()\n",
    "This method is called for each time period in the data source and access is available to all data streams\n",
    "\n",
    "### 2. notify_order()\n",
    "This method is called for each disposition of an order and can be used to analyse and control order execution \n",
    "\n",
    "### 3. notify_trade()\n",
    "This method is called for each trade that is closed and the PNL associated with the trade can be derived.\n",
    "\n"
   ]
  },
  {
   "cell_type": "code",
   "execution_count": 4,
   "metadata": {},
   "outputs": [],
   "source": [
    "class MyStrategy(bt.Strategy):\n",
    "    lines = ('signal',)\n",
    "\n",
    "    def __init__(self):\n",
    "        self.lines.signal = self.data.openinterest\n",
    "        self.order = None\n",
    "\n",
    "    # this method is used to update the data dictionaries\n",
    "    def updateDict(self, dict, date, ticker, value):\n",
    "        if ticker in dict.keys():\n",
    "            dict[ticker].append((date, value))\n",
    "        else:\n",
    "            dict[ticker] = [(date, value)]\n",
    "\n",
    "    # this method is called for each date which then \n",
    "    # traversess each security to determine whether to \n",
    "    # buy, close or rebalance a position.\n",
    "    def next(self):\n",
    "        idx = self.datetime.idx\n",
    "        dt = self.datetime.date()\n",
    "        cash = self.broker.get_cash()\n",
    "        \n",
    "        # add cash balance to market value...\n",
    "        self.updateDict(MKT_DICT, idx, 'cash', cash)\n",
    "        \n",
    "        # loop through each ticker\n",
    "        for i, d in enumerate(self.datas):\n",
    "            dn = d._name\n",
    "            pos = self.getposition(d).size\n",
    "            signal = d.openinterest.array[idx]\n",
    "            size = 0\n",
    "            if pos:\n",
    "                # add market value of any positions\n",
    "                self.updateDict(MKT_DICT, idx, dn, pos * d.close.array[idx])\n",
    "                \n",
    "                # check if position needs to be adjusted up or down\n",
    "                if signal > 0:\n",
    "                    prev_signal = d.openinterest.array[idx-1]\n",
    "                    if signal < prev_signal:\n",
    "                        # reduce the size...\n",
    "                        size = int(round(pos * (1 - signal/prev_signal)))\n",
    "                        if size > 10:\n",
    "                            self.order = self.sell(data=d, size=size, price=d.close[0])\n",
    "                    elif signal > prev_signal:\n",
    "                        # increase size\n",
    "                        size = int(self.sizer.getsizing(d, True) * signal)\n",
    "                        if size > 10:\n",
    "                            self.order = self.buy(data=d, size=size, price=d.close[0])\n",
    "                else:\n",
    "                    # close out the position if no signal\n",
    "                    self.order = self.close(data=d)\n",
    "            elif signal > 0:\n",
    "                # this is new trade \n",
    "                try:\n",
    "                    size = int(self.sizer.getsizing(d, True) * signal)\n",
    "                    self.order = self.buy(data=d, size=size) \n",
    "                except Exception as ex:\n",
    "                    logger.info('Exception trading: %s  row: %s' % (dn, idx))\n",
    "                    pass\n",
    "\n",
    "    # this method is callback for each order\n",
    "    def notify_order(self, order):\n",
    "        if order.status in [order.Submitted, order.Accepted]:\n",
    "            return\n",
    "\n",
    "        if order.status in [order.Completed]:\n",
    "            if order.isbuy():\n",
    "                if DEBUG:\n",
    "                    logger.info('BUY EXECUTED, row: %s, Ticker: %s, Price: %.2f, Shares: %s, Cost: %.2f, Comm %.2f, Cash %.2f' %\n",
    "                          (order.plen, order.data._name, order.executed.price, order.size, order.executed.value, order.executed.comm, self.broker.getcash()))\n",
    "                self.buyprice = order.executed.price\n",
    "                self.buycomm = order.executed.comm\n",
    "            else:\n",
    "                if DEBUG:\n",
    "                    logger.info('SELL EXECUTED, row %s, Ticker: %s, Price: %.2f, shares: %s, Cost: %.2f, Comm %.2f, Cash %.2f' % (\n",
    "                        order.plen, order.data._name, order.executed.price, order.size, order.executed.value, order.executed.comm, self.broker.getcash()))\n",
    "                    pass\n",
    "            self.bar_executed = len(self)\n",
    "\n",
    "        elif order.status in [order.Canceled, order.Margin, order.Rejected]:\n",
    "            # if trade did not succeed\n",
    "            message = 'name %s idx: %s size: %s  price %s  cash: %s' % (order.data._name, order.plen, order.size, order.data.close[0], self.broker.getcash())\n",
    "            if order.status == order.Canceled:\n",
    "                logger.info('Order Canceled: %s' % message)\n",
    "            elif order.status == order.Rejected:\n",
    "                logger.info('Order Rejected: %s' % message)\n",
    "            elif order.status == order.Margin:\n",
    "                logger.info('Order Margin exceeded: %s' % message)\n",
    "\n",
    "        # Write down: no pending order\n",
    "        self.order = None\n",
    "\n",
    "    # this method is called when trade is completed\n",
    "    # the pnl is added to the PNL dict\n",
    "    def notify_trade(self, trade):\n",
    "        if trade.isclosed:\n",
    "            ticker = trade.getdataname()\n",
    "            self.updateDict(PNL_DICT, trade.barclose, ticker, trade.pnlcomm)\n",
    "        return\n"
   ]
  },
  {
   "cell_type": "markdown",
   "metadata": {},
   "source": [
    "## Step 6: Create Sizer Class \n",
    "\n",
    "This class is used to to dynamically allocate the size of the trade relative to available cash.  In this example, the size is based on percentage of AUM with look ahead feature in case the next price is higher than the current price.  This obviously would not work with realtime data. "
   ]
  },
  {
   "cell_type": "code",
   "execution_count": 5,
   "metadata": {},
   "outputs": [],
   "source": [
    "class MySizer(bt.sizers.PercentSizer):\n",
    "    def _getsizing(self, comminfo, cash, data, isbuy):\n",
    "        self.params.percents = 95\n",
    "        self.params.retint = True\n",
    "        price0 = data.close[0]\n",
    "        try:\n",
    "            price1 = data.close[1]\n",
    "        except:\n",
    "            price1 = price0\n",
    "        price = max(price0, price1)\n",
    "        size = cash / price * (self.params.percents / 100)\n",
    "        if self.p.retint:\n",
    "            size = int(size)\n",
    "        return size"
   ]
  },
  {
   "cell_type": "markdown",
   "metadata": {},
   "source": [
    "## Step 7:  Function to Read Backtest Returns Data.\n",
    "This Function reads the security return data that was used to generate the signal data for this example. \n",
    "\n",
    "The return data is contained in a tall table that is reformatted and converted to price data \n",
    " * Read and pivot data\n",
    " * Perform Winsoration if enabled\n",
    " * Coumpound returns and convert to prices\n",
    " * Forward fill any missing data\n",
    " * Filter out known bad data and remove empty columns\n",
    " * Filter selected Tickers if set\n"
   ]
  },
  {
   "cell_type": "code",
   "execution_count": 6,
   "metadata": {},
   "outputs": [],
   "source": [
    "def winsorize(df, limits=(0.01,0.01), inclusive=(False,False)):\n",
    "    ## following method performs trimming the tail based on\n",
    "    ## limit value percentages which is not used for this example\n",
    "    def winsorizeSeries(s):\n",
    "        try:\n",
    "            a = s[~pd.isnull(s)].astype(float)\n",
    "            s[~pd.isnull(s)] = mstats.winsorize(a, limits)\n",
    "        except Exception as ex:\n",
    "            pass\n",
    "        return s\n",
    "    \n",
    "    ## df = df.apply(winsorizeSeries, axis=0)\n",
    "    ## use clip Winsorization method in this example\n",
    "    df = df.clip(upper=WINSORIZATION_LEVEL)\n",
    "    return df\n",
    "\n",
    "def convertReturnsToPrice(filename):\n",
    "    df = pd.read_csv(filename)\n",
    "    df['assetid'] = 'x' + df.assetid.astype(str)\n",
    "    # to maintain same order as pivot sorts cols alphabetically\n",
    "    order = df.assetid.unique()\n",
    "    df = df.pivot(index='date', columns='assetid', values='value')\n",
    "    df.index = pd.to_datetime(df.index)\n",
    "    df = df.reindex(order, axis=1)\n",
    "    if WINSORIZATION_LEVEL:\n",
    "        df = winsorize(df)\n",
    "    dfp = 100 + ((df + 1).cumprod() - 1) * 100\n",
    "    return dfp\n",
    "\n",
    "def getPrices(filename):\n",
    "    df = convertReturnsToPrice(filename)\n",
    "    # read the prices\n",
    "    df = df.sort_index()\n",
    "    df = df.ffill()\n",
    "    # drop columns with bad prices\n",
    "    droplist = ['x209', 'x291', 'x657', 'x1079', 'x2781', 'x2953', 'x3549', 'x3850', 'x4034', 'x5388',\\\n",
    "                'x11286','x11882', 'x12486', 'x14258', 'x18092', 'x19354', 'x19503', 'x19540','x67592',\\\n",
    "                'x751','x1493','x2028','x5431','x6103','x8532','x8547','x8667','x10746','x15703','x16990',\\\n",
    "                'x17237','x19467','x21145','x21757','x62268', 'x6240','x6217']\n",
    "\n",
    "    for col in df.columns:\n",
    "        distinct = df[col].unique()\n",
    "        if len(distinct) == 1 and pd.isna(distinct[0]):\n",
    "            droplist.append(col)\n",
    "    if len(droplist):\n",
    "        logger.info('dropping nan columns %s' % droplist)\n",
    "        df = df.drop(droplist, axis=1)\n",
    "    if TICKERS:\n",
    "        df = df[TICKERS]\n",
    "    elif NUM_TICKERS and NUM_TICKERS < len(df.columns):\n",
    "        df = df[df.columns[0:NUM_TICKERS]]\n",
    "    return df\n"
   ]
  },
  {
   "cell_type": "markdown",
   "metadata": {},
   "source": [
    "## Step 8: Function to Read Signals Data \n",
    "\n",
    "This function reads the signals file that was generated by another process.  In this example, the signal file consists of binary values that indicate buy and hold when true and sell or ignore when false.  The signals are equally weighted based on the number of buy signals for each period.  "
   ]
  },
  {
   "cell_type": "code",
   "execution_count": 7,
   "metadata": {},
   "outputs": [],
   "source": [
    "def getSignals(dfp, filename):\n",
    "    #read the signals\n",
    "    df = pd.read_csv(filename)\n",
    "    df = df.set_index('date')\n",
    "    df.index = pd.to_datetime(df.index)\n",
    "    # reorder signal columns to match prices...\n",
    "    df = df[dfp.columns]\n",
    "    # shift columns up two periods...\n",
    "    df = df.shift(periods=-1).ffill()\n",
    "    # find any missing rows in signals data...\n",
    "    missing = set(dfp.index) ^ set(df.index)\n",
    "    if missing:\n",
    "        # create empty dataframe\n",
    "        dfm = pd.DataFrame([],index=missing, columns=df.columns)\n",
    "        df = dfm.append(df)\n",
    "    df = df.sort_index()\n",
    "    df = df.fillna(0)\n",
    "    if TICKERS:\n",
    "        df = df[TICKERS]\n",
    "    elif NUM_TICKERS and NUM_TICKERS < len(df.columns):\n",
    "        df = df[df.columns[0:NUM_TICKERS]]\n",
    "    return df\n"
   ]
  },
  {
   "cell_type": "markdown",
   "metadata": {},
   "source": [
    "## Step 9:  Function to Compute Equal Weighted Signals...\n",
    "\n",
    "In this function, the signal values are normalized to that of the prices that were read in the previous step."
   ]
  },
  {
   "cell_type": "code",
   "execution_count": 8,
   "metadata": {},
   "outputs": [],
   "source": [
    "def computeEqualWeightedSignals(dfs):\n",
    "    sum = dfs.sum(axis=1)\n",
    "    if any(sum > 1):\n",
    "        dfs = dfs.div(sum, axis=0).fillna(0.0)\n",
    "    return dfs\n"
   ]
  },
  {
   "cell_type": "markdown",
   "metadata": {},
   "source": [
    "## Step 10: Function to Add Data to Cerebro\n",
    "\n",
    "This function is used to add data to Cerebro, which is the Backtrader calculation engine.  Cerebro is designed to read a stream either from a source such as Yahoo or Google or realtime datafeed, but in this case we are loading static historical data using their dataframe interface.\n",
    "\n",
    "As previously mentioned, the signals data is store in the \"openinterest\" field and the \"Closing Prices\" prices data is replicated for the other fields needed by Cerebro to function properly.\n",
    "\n",
    "The price and signals data are merge with signals using openinterest and close for open, high, low.\n",
    "Backtrader relies on the following data:\n",
    "\n",
    "<font color=blue><pre>\n",
    "Open\n",
    "High\n",
    "Low\n",
    "Close\n",
    "Volume\n",
    "Openinterest\n",
    "</pre></font>\n"
   ]
  },
  {
   "cell_type": "code",
   "execution_count": 9,
   "metadata": {},
   "outputs": [],
   "source": [
    "def addData(cerebro, dfp, dfs):\n",
    "    for idx in range(len(dfp.columns)):\n",
    "        col = dfp.columns[idx]\n",
    "        df = dfp[[col]].join(dfs[[col]],rsuffix='x').fillna(-1.0)\n",
    "        # use close for the price and open for the signal\n",
    "        df.columns = ['close', 'openinterest']\n",
    "        df['open'] = df.close\n",
    "        df['high'] = df.close\n",
    "        df['low'] = df.close\n",
    "        df['volume'] = df.close\n",
    "        data = bt.feeds.PandasData(dataname=df, name=col)\n",
    "        cerebro.adddata(data)\n",
    "    logger.info('added %s columns' % (idx+1))"
   ]
  },
  {
   "cell_type": "markdown",
   "metadata": {},
   "source": [
    "## Step 11: Function to Generate Table from Dictionary\n",
    "This is post processing function to convert trade PNL and Daily Market Values to tables"
   ]
  },
  {
   "cell_type": "code",
   "execution_count": 10,
   "metadata": {},
   "outputs": [],
   "source": [
    "def genTableFromDict(dfp, dict):\n",
    "    df = pd.DataFrame()\n",
    "    # each ticker is different lenght, so have to do one table at a time\n",
    "    # use price dataframe to normalize date column\n",
    "    for key in dict.keys():\n",
    "        dfi = pd.DataFrame(dict[key], columns=['index', key]).set_index('index')\n",
    "        df = dfi if df.empty else df.join(dfi)\n",
    "    df = dfp.reset_index()[['date']].join(df).set_index('date')\n",
    "    ## to preserve column order\n",
    "    cols = set(dfp.columns) & set(df.columns)\n",
    "    colorder = ['cash']\n",
    "    colorder.extend(dfp.columns[[x in cols for x in dfp.columns]])\n",
    "    df = df.reindex(columns=colorder)\n",
    "    return df\n"
   ]
  },
  {
   "cell_type": "markdown",
   "metadata": {},
   "source": [
    "## Step 12.  Function to Initialize Logger\n",
    "The logger is used in this example to generation a log file, so that the trades may be examined after the run"
   ]
  },
  {
   "cell_type": "code",
   "execution_count": 11,
   "metadata": {},
   "outputs": [],
   "source": [
    "def initLogger():\n",
    "    root = '/tmp/marketdata/' if 'linux' in sys.platform else '../log'\n",
    "    os.makedirs(root, exist_ok=True)\n",
    "    fh = logging.FileHandler(os.path.join(root,'backtest-{:%Y-%m-%d-%H-%M-%S}.log'.format(datetime.datetime.now())))\n",
    "    formatter = logging.Formatter('%(asctime)s | %(levelname)-8s | %(lineno)04d | %(message)s')\n",
    "    fh.setFormatter(formatter)\n",
    "    logger.addHandler(fh)\n",
    "    logger.addHandler(logging.StreamHandler())\n",
    "    logger.setLevel(logging.INFO)\n"
   ]
  },
  {
   "cell_type": "markdown",
   "metadata": {},
   "source": [
    "## Step 13: Create cerebro object\n",
    "  * set initial broker cash balance\n",
    "  * add strategy class\n",
    "  * add sizer\n",
    "  * add Analyser\n",
    "  * set broker commision\n",
    "  * read price data\n",
    "  * read signal data\n",
    "  * add data to Cerebro"
   ]
  },
  {
   "cell_type": "code",
   "execution_count": 12,
   "metadata": {},
   "outputs": [],
   "source": [
    "logger.info('Starting BackTrader')\n",
    "\n",
    "cerebro = bt.Cerebro()\n",
    "cerebro.broker.setcash(START_BALANCE)\n",
    "cerebro.addstrategy(MyStrategy)\n",
    "cerebro.addsizer(MySizer)\n",
    "cerebro.addanalyzer(btanalyzers.SharpeRatio, _name='mysharpe')\n",
    "cerebro.broker.setcommission(commission=0.001)\n",
    "cerebro._disable_runonce()\n",
    "\n",
    "# get daily prices\n",
    "dfp = getPrices('../arabesque/DailyAssetReturns.csv')\n",
    "\n",
    "#get signals\n",
    "dfs = getSignals(dfp, '../arabesque/IEOR4576_ALLOC.csv')\n",
    "dfs = computeEqualWeightedSignals(dfs)\n",
    "\n",
    "# add data to cerebro\n",
    "addData(cerebro, dfp, dfs)\n"
   ]
  },
  {
   "cell_type": "markdown",
   "metadata": {},
   "source": [
    "## Step 14:  Run Cerebro\n",
    "\n",
    "This step performs the exection of the backtrader and may take up to 30-40 minutes to run for the full dataset."
   ]
  },
  {
   "cell_type": "code",
   "execution_count": 13,
   "metadata": {},
   "outputs": [],
   "source": [
    "# initialize cerebro\n",
    "\n",
    "logger.info('Starting Portfolio Value: %.2f' % cerebro.broker.getvalue())\n",
    "\n",
    "# run the strategy\n",
    "strats = cerebro.run()\n",
    "\n",
    "# get the results\n",
    "logger.info('Sharpe Ratio: %s' % strats[0].analyzers.mysharpe.get_analysis()['sharperatio'])\n",
    "endBalance = cerebro.broker.getvalue()\n",
    "logger.info('Final Portfolio Value: %.2f' % endBalance)\n",
    "\n"
   ]
  },
  {
   "cell_type": "markdown",
   "metadata": {},
   "source": [
    "## Step 15: Perform Post Processing of Trade Data\n",
    "\n",
    "If the trade data is saved, analysis of the results may be performed in a separate process.  Change the file names between runs, or the files will be over written with the latest run "
   ]
  },
  {
   "cell_type": "code",
   "execution_count": 14,
   "metadata": {},
   "outputs": [],
   "source": [
    "# get the market values from the strategy \n",
    "# and convert to dataframe and savedft = genTableFromDict(dfp, PNL_DICT)\n",
    "dfc = genTableFromDict(dfp, MKT_DICT)\n",
    "dft = genTableFromDict(dfp, PNL_DICT)\n",
    "\n",
    "if SAVE_OUTPUT_FILES:\n",
    "    dft.to_csv('../arabesque/backtest-trade-pnl.csv')\n",
    "    dfc.to_csv('../arabesque/backtest-daily-pnl.csv')\n",
    "    "
   ]
  },
  {
   "cell_type": "markdown",
   "metadata": {},
   "source": [
    "## Step 16: Compute Benchmark Returns by Aggregating Asset Returns\n",
    "\n",
    "The benchmark data is merged with the aggregated trade data (called \"strat\") which consists of the sum of the cash and position balances for each period"
   ]
  },
  {
   "cell_type": "code",
   "execution_count": 15,
   "metadata": {},
   "outputs": [],
   "source": [
    "dfc['strat'] = dfc.fillna(0.0).sum(axis=1)\n",
    "dfx = dfp.pct_change()\n",
    "# compute row weights to filter NAN values per row\n",
    "w = dfx.apply(lambda x: x.count(), axis=1)\n",
    "dfr = pd.DataFrame(dfx.div(w, axis=0).sum(axis=1), columns=['benchmark'])\n",
    "dfr = START_BALANCE + ((dfr + 1).cumprod() - 1) * START_BALANCE\n",
    "df = dfr.join(dfc[['strat']]).ffill()"
   ]
  },
  {
   "cell_type": "markdown",
   "metadata": {},
   "source": [
    "## Step 17: Plot the Data\n",
    "\n",
    "This step will plot the above data showing the strategy, **strat** performance relative to buying each stock in the portfolio, **benchmark**\n",
    "\n",
    "Note uncomment %matlab below to show the chart as a separate window. "
   ]
  },
  {
   "cell_type": "code",
   "execution_count": 16,
   "metadata": {},
   "outputs": [
    {
     "data": {
      "image/png": "[encoded data removed]",
      "text/plain": [
       "<Figure size 432x288 with 1 Axes>"
      ]
     },
     "metadata": {
      "needs_background": "light"
     },
     "output_type": "display_data"
    }
   ],
   "source": [
    "if not SHOW_BACKTRADER_CHARTS:\n",
    "    # %matplotlib\n",
    "\n",
    "    ax = df.plot(kind='line')\n",
    "    df.head()\n",
    "    # add stats...\n",
    "    tickers = TICKERS if TICKERS else dfp.columns[0:NUM_TICKERS] if NUM_TICKERS else dfp.columns\n",
    "    tickers = ', '.join(tickers) if len(tickers) <= 5 else '%s - %s' % (tickers[0], tickers[-1])\n",
    "\n",
    "    textstr = '\\n'.join((\n",
    "        'Tickers:    %s' % tickers,\n",
    "        'Start Date  %s' % dfp.index[0].strftime('%m/%d/%Y'), \n",
    "        'End Date:   %s' % dfp.index[-1].strftime('%m/%d/%Y'),\n",
    "        'AUM Start:  $%.0fMM' % (START_BALANCE/1E6),\n",
    "        'AUM End:    $%.0fMM' % (endBalance/1E6),\n",
    "        'Sharpe:     %.2f' % strats[0].analyzers.mysharpe.get_analysis()['sharperatio']))\n",
    "\n",
    "    props = dict(boxstyle='round', facecolor='dodgerblue', alpha=0.5)\n",
    "    ax.text(0.1, 0.65, textstr, transform=ax.transAxes, family='monospace', fontsize=8, verticalalignment='top', bbox=props)\n",
    "    ax.get_legend().remove()\n",
    "    plt.legend(loc='upper left')\n",
    "    plt.show()\n"
   ]
  },
  {
   "cell_type": "markdown",
   "metadata": {},
   "source": [
    "## Step 18:  Show Backtrader Charts\n",
    "\n",
    "Backtrader has built in charting capability that shows the start and end and PNL for each trade and net value.  A separate chart is shown for each ticker, so running more than four tickers at once will make the charts incomprehensible. \n",
    "\n",
    "Note that the Backtrader charts cannot be shown if the above chart is present, so must choose one or the other."
   ]
  },
  {
   "cell_type": "code",
   "execution_count": 17,
   "metadata": {},
   "outputs": [],
   "source": [
    "if SHOW_BACKTRADER_CHARTS:\n",
    "    pkwargs = dict(style='bar')\n",
    "    cerebro.plot(**pkwargs)"
   ]
  },
  {
   "cell_type": "code",
   "execution_count": null,
   "metadata": {},
   "outputs": [],
   "source": []
  }
 ],
 "metadata": {
  "kernelspec": {
   "display_name": "Python 3",
   "language": "python",
   "name": "python3"
  },
  "language_info": {
   "codemirror_mode": {
    "name": "ipython",
    "version": 3
   },
   "file_extension": ".py",
   "mimetype": "text/x-python",
   "name": "python",
   "nbconvert_exporter": "python",
   "pygments_lexer": "ipython3",
   "version": "3.7.4"
  }
 },
 "nbformat": 4,
 "nbformat_minor": 4
}
